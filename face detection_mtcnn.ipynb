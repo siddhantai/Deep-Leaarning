{
 "cells": [
  {
   "cell_type": "code",
   "execution_count": 1,
   "metadata": {},
   "outputs": [
    {
     "name": "stdout",
     "output_type": "stream",
     "text": [
      "Collecting mtcnn\n",
      "  Downloading https://files.pythonhosted.org/packages/67/43/abee91792797c609c1bf30f1112117f7a87a713ebaa6ec5201d5555a73ef/mtcnn-0.1.0-py3-none-any.whl (2.3MB)\n",
      "Requirement already satisfied: keras>=2.0.0 in c:\\programdata\\anaconda3\\lib\\site-packages (from mtcnn) (2.3.1)\n",
      "Requirement already satisfied: opencv-python>=4.1.0 in c:\\programdata\\anaconda3\\lib\\site-packages (from mtcnn) (4.1.2.30)\n",
      "Requirement already satisfied: keras-applications>=1.0.6 in c:\\programdata\\anaconda3\\lib\\site-packages (from keras>=2.0.0->mtcnn) (1.0.8)\n",
      "Requirement already satisfied: six>=1.9.0 in c:\\programdata\\anaconda3\\lib\\site-packages (from keras>=2.0.0->mtcnn) (1.12.0)\n",
      "Requirement already satisfied: pyyaml in c:\\programdata\\anaconda3\\lib\\site-packages (from keras>=2.0.0->mtcnn) (5.1.1)\n",
      "Requirement already satisfied: keras-preprocessing>=1.0.5 in c:\\programdata\\anaconda3\\lib\\site-packages (from keras>=2.0.0->mtcnn) (1.1.0)\n",
      "Requirement already satisfied: numpy>=1.9.1 in c:\\programdata\\anaconda3\\lib\\site-packages (from keras>=2.0.0->mtcnn) (1.16.4)\n",
      "Requirement already satisfied: scipy>=0.14 in c:\\programdata\\anaconda3\\lib\\site-packages (from keras>=2.0.0->mtcnn) (1.2.1)\n",
      "Requirement already satisfied: h5py in c:\\programdata\\anaconda3\\lib\\site-packages (from keras>=2.0.0->mtcnn) (2.9.0)\n",
      "Installing collected packages: mtcnn\n",
      "Successfully installed mtcnn-0.1.0\n"
     ]
    }
   ],
   "source": [
    "! pip install mtcnn"
   ]
  },
  {
   "cell_type": "code",
   "execution_count": 1,
   "metadata": {},
   "outputs": [
    {
     "name": "stderr",
     "output_type": "stream",
     "text": [
      "Using TensorFlow backend.\n"
     ]
    }
   ],
   "source": [
    "import cv2\n",
    "from mtcnn.mtcnn import MTCNN"
   ]
  },
  {
   "cell_type": "code",
   "execution_count": 2,
   "metadata": {},
   "outputs": [],
   "source": [
    "detector = MTCNN()\n",
    "image = cv2.imread(r\"C:\\Users\\SID13\\Desktop\\scanner_20181122_093332.jpg\")\n",
    "result = detector.detect_faces(image)"
   ]
  },
  {
   "cell_type": "code",
   "execution_count": 7,
   "metadata": {},
   "outputs": [],
   "source": [
    "d=cv2.imshow(\"sid\",image)"
   ]
  },
  {
   "cell_type": "code",
   "execution_count": 8,
   "metadata": {},
   "outputs": [
    {
     "data": {
      "text/plain": [
       "[{'box': [277, 90, 48, 63],\n",
       "  'confidence': 0.9985162615776062,\n",
       "  'keypoints': {'left_eye': (291, 117),\n",
       "   'right_eye': (314, 114),\n",
       "   'nose': (303, 131),\n",
       "   'mouth_left': (296, 143),\n",
       "   'mouth_right': (313, 141)}}]"
      ]
     },
     "execution_count": 8,
     "metadata": {},
     "output_type": "execute_result"
    }
   ],
   "source": [
    "[{'box': [277, 90, 48, 63], 'confidenc\n",
    "  e': 0.9985162615776062, 'keypoints': {'left_eye': (291, 117), 'right_eye': (314, 114), 'nose': (303, 131), 'mouth_left': (296, 143), 'mouth_right': (313, 141)}}]"
   ]
  },
  {
   "cell_type": "code",
   "execution_count": 9,
   "metadata": {},
   "outputs": [],
   "source": [
    "bounding_box = result[0]['box']\n",
    "keypoints = result[0]['keypoints']"
   ]
  },
  {
   "cell_type": "code",
   "execution_count": 10,
   "metadata": {},
   "outputs": [
    {
     "data": {
      "text/plain": [
       "array([[[208, 207, 197],\n",
       "        [206, 205, 195],\n",
       "        [206, 205, 195],\n",
       "        ...,\n",
       "        [198, 202, 191],\n",
       "        [198, 202, 191],\n",
       "        [197, 204, 191]],\n",
       "\n",
       "       [[208, 207, 197],\n",
       "        [203, 202, 192],\n",
       "        [202, 201, 191],\n",
       "        ...,\n",
       "        [200, 204, 193],\n",
       "        [199, 203, 192],\n",
       "        [196, 202, 191]],\n",
       "\n",
       "       [[208, 206, 198],\n",
       "        [206, 204, 196],\n",
       "        [206, 204, 194],\n",
       "        ...,\n",
       "        [205, 206, 197],\n",
       "        [202, 206, 195],\n",
       "        [199, 205, 194]],\n",
       "\n",
       "       ...,\n",
       "\n",
       "       [[ 69,  76,  79],\n",
       "        [ 67,  74,  77],\n",
       "        [ 68,  73,  76],\n",
       "        ...,\n",
       "        [ 56,  59,  57],\n",
       "        [ 55,  58,  56],\n",
       "        [ 54,  57,  55]],\n",
       "\n",
       "       [[ 68,  75,  78],\n",
       "        [ 66,  73,  76],\n",
       "        [ 67,  72,  75],\n",
       "        ...,\n",
       "        [ 60,  63,  61],\n",
       "        [ 60,  63,  61],\n",
       "        [ 59,  62,  60]],\n",
       "\n",
       "       [[ 71,  76,  79],\n",
       "        [ 70,  75,  78],\n",
       "        [ 70,  75,  78],\n",
       "        ...,\n",
       "        [ 77,  80,  78],\n",
       "        [ 78,  81,  79],\n",
       "        [ 77,  80,  78]]], dtype=uint8)"
      ]
     },
     "execution_count": 10,
     "metadata": {},
     "output_type": "execute_result"
    }
   ],
   "source": [
    "cv2.rectangle(image,\n",
    "              (bounding_box[0], bounding_box[1]),\n",
    "              (bounding_box[0]+bounding_box[2], bounding_box[1] + bounding_box[3]),\n",
    "              (0,155,255),\n",
    "              2)\n",
    "cv2.circle(image,(keypoints['left_eye']), 2, (0,155,255), 2)\n",
    "cv2.circle(image,(keypoints['right_eye']), 2, (0,155,255), 2)\n",
    "cv2.circle(image,(keypoints['nose']), 2, (0,155,255), 2)\n",
    "cv2.circle(image,(keypoints['mouth_left']), 2, (0,155,255), 2)\n",
    "cv2.circle(image,(keypoints['mouth_right']), 2, (0,155,255), 2)"
   ]
  },
  {
   "cell_type": "code",
   "execution_count": null,
   "metadata": {},
   "outputs": [],
   "source": [
    "cv2.imwrite(r\"C:\\Users\\SID13\\Desktop\\scanner_20181122_093332.jpg\", image)\n",
    "cv2.namedWindow(\"image\")\n",
    "cv2.imshow(\"sid\",image)\n",
    "cv2.waitKey(0)"
   ]
  },
  {
   "cell_type": "code",
   "execution_count": null,
   "metadata": {},
   "outputs": [],
   "source": []
  }
 ],
 "metadata": {
  "kernelspec": {
   "display_name": "Python 3",
   "language": "python",
   "name": "python3"
  },
  "language_info": {
   "codemirror_mode": {
    "name": "ipython",
    "version": 3
   },
   "file_extension": ".py",
   "mimetype": "text/x-python",
   "name": "python",
   "nbconvert_exporter": "python",
   "pygments_lexer": "ipython3",
   "version": "3.7.3"
  }
 },
 "nbformat": 4,
 "nbformat_minor": 2
}
