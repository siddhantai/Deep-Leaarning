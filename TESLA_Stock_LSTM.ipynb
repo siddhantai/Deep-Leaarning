{
 "cells": [
  {
   "cell_type": "code",
   "execution_count": 137,
   "metadata": {},
   "outputs": [],
   "source": [
    "import numpy as np\n",
    "import pandas as pd\n",
    "import matplotlib.pyplot as plt\n",
    "import tensorflow as tf\n",
    "from sklearn.model_selection import train_test_split\n",
    "from sklearn.preprocessing import MinMaxScaler"
   ]
  },
  {
   "cell_type": "code",
   "execution_count": 170,
   "metadata": {},
   "outputs": [],
   "source": [
    "tsl=pd.read_csv(r\"C:\\Users\\SID13\\Downloads\\TSLA.csv\")"
   ]
  },
  {
   "cell_type": "code",
   "execution_count": 171,
   "metadata": {},
   "outputs": [
    {
     "data": {
      "text/html": [
       "<div>\n",
       "<style scoped>\n",
       "    .dataframe tbody tr th:only-of-type {\n",
       "        vertical-align: middle;\n",
       "    }\n",
       "\n",
       "    .dataframe tbody tr th {\n",
       "        vertical-align: top;\n",
       "    }\n",
       "\n",
       "    .dataframe thead th {\n",
       "        text-align: right;\n",
       "    }\n",
       "</style>\n",
       "<table border=\"1\" class=\"dataframe\">\n",
       "  <thead>\n",
       "    <tr style=\"text-align: right;\">\n",
       "      <th></th>\n",
       "      <th>Date</th>\n",
       "      <th>Open</th>\n",
       "      <th>High</th>\n",
       "      <th>Low</th>\n",
       "      <th>Close</th>\n",
       "      <th>Adj Close</th>\n",
       "      <th>Volume</th>\n",
       "    </tr>\n",
       "  </thead>\n",
       "  <tbody>\n",
       "    <tr>\n",
       "      <th>0</th>\n",
       "      <td>2014-12-31</td>\n",
       "      <td>223.089996</td>\n",
       "      <td>225.679993</td>\n",
       "      <td>222.250000</td>\n",
       "      <td>222.410004</td>\n",
       "      <td>222.410004</td>\n",
       "      <td>2297500</td>\n",
       "    </tr>\n",
       "    <tr>\n",
       "      <th>1</th>\n",
       "      <td>2015-01-02</td>\n",
       "      <td>222.869995</td>\n",
       "      <td>223.250000</td>\n",
       "      <td>213.259995</td>\n",
       "      <td>219.309998</td>\n",
       "      <td>219.309998</td>\n",
       "      <td>4764400</td>\n",
       "    </tr>\n",
       "    <tr>\n",
       "      <th>2</th>\n",
       "      <td>2015-01-05</td>\n",
       "      <td>214.550003</td>\n",
       "      <td>216.500000</td>\n",
       "      <td>207.160004</td>\n",
       "      <td>210.089996</td>\n",
       "      <td>210.089996</td>\n",
       "      <td>5368500</td>\n",
       "    </tr>\n",
       "    <tr>\n",
       "      <th>3</th>\n",
       "      <td>2015-01-06</td>\n",
       "      <td>210.059998</td>\n",
       "      <td>214.199997</td>\n",
       "      <td>204.210007</td>\n",
       "      <td>211.279999</td>\n",
       "      <td>211.279999</td>\n",
       "      <td>6261900</td>\n",
       "    </tr>\n",
       "    <tr>\n",
       "      <th>4</th>\n",
       "      <td>2015-01-07</td>\n",
       "      <td>213.350006</td>\n",
       "      <td>214.779999</td>\n",
       "      <td>209.779999</td>\n",
       "      <td>210.949997</td>\n",
       "      <td>210.949997</td>\n",
       "      <td>2968400</td>\n",
       "    </tr>\n",
       "  </tbody>\n",
       "</table>\n",
       "</div>"
      ],
      "text/plain": [
       "         Date        Open        High         Low       Close   Adj Close  \\\n",
       "0  2014-12-31  223.089996  225.679993  222.250000  222.410004  222.410004   \n",
       "1  2015-01-02  222.869995  223.250000  213.259995  219.309998  219.309998   \n",
       "2  2015-01-05  214.550003  216.500000  207.160004  210.089996  210.089996   \n",
       "3  2015-01-06  210.059998  214.199997  204.210007  211.279999  211.279999   \n",
       "4  2015-01-07  213.350006  214.779999  209.779999  210.949997  210.949997   \n",
       "\n",
       "    Volume  \n",
       "0  2297500  \n",
       "1  4764400  \n",
       "2  5368500  \n",
       "3  6261900  \n",
       "4  2968400  "
      ]
     },
     "execution_count": 171,
     "metadata": {},
     "output_type": "execute_result"
    }
   ],
   "source": [
    "tsl.head()"
   ]
  },
  {
   "cell_type": "code",
   "execution_count": 172,
   "metadata": {},
   "outputs": [
    {
     "data": {
      "text/html": [
       "<div>\n",
       "<style scoped>\n",
       "    .dataframe tbody tr th:only-of-type {\n",
       "        vertical-align: middle;\n",
       "    }\n",
       "\n",
       "    .dataframe tbody tr th {\n",
       "        vertical-align: top;\n",
       "    }\n",
       "\n",
       "    .dataframe thead th {\n",
       "        text-align: right;\n",
       "    }\n",
       "</style>\n",
       "<table border=\"1\" class=\"dataframe\">\n",
       "  <thead>\n",
       "    <tr style=\"text-align: right;\">\n",
       "      <th></th>\n",
       "      <th>High</th>\n",
       "    </tr>\n",
       "  </thead>\n",
       "  <tbody>\n",
       "    <tr>\n",
       "      <th>0</th>\n",
       "      <td>225.679993</td>\n",
       "    </tr>\n",
       "    <tr>\n",
       "      <th>1</th>\n",
       "      <td>223.250000</td>\n",
       "    </tr>\n",
       "    <tr>\n",
       "      <th>2</th>\n",
       "      <td>216.500000</td>\n",
       "    </tr>\n",
       "    <tr>\n",
       "      <th>3</th>\n",
       "      <td>214.199997</td>\n",
       "    </tr>\n",
       "    <tr>\n",
       "      <th>4</th>\n",
       "      <td>214.779999</td>\n",
       "    </tr>\n",
       "  </tbody>\n",
       "</table>\n",
       "</div>"
      ],
      "text/plain": [
       "         High\n",
       "0  225.679993\n",
       "1  223.250000\n",
       "2  216.500000\n",
       "3  214.199997\n",
       "4  214.779999"
      ]
     },
     "execution_count": 172,
     "metadata": {},
     "output_type": "execute_result"
    }
   ],
   "source": [
    "x=tsl.iloc[:,2:3]\n",
    "x.head()\n"
   ]
  },
  {
   "cell_type": "code",
   "execution_count": 173,
   "metadata": {},
   "outputs": [
    {
     "data": {
      "text/plain": [
       "array([[0.25222941],\n",
       "       [0.24356139],\n",
       "       [0.21948348],\n",
       "       [0.21127915],\n",
       "       [0.21334807]])"
      ]
     },
     "execution_count": 173,
     "metadata": {},
     "output_type": "execute_result"
    }
   ],
   "source": [
    "sc=MinMaxScaler(feature_range=(0,1))\n",
    "x=sc.fit_transform(x)\n",
    "x[:5]"
   ]
  },
  {
   "cell_type": "code",
   "execution_count": 174,
   "metadata": {},
   "outputs": [
    {
     "data": {
      "text/plain": [
       "1259"
      ]
     },
     "execution_count": 174,
     "metadata": {},
     "output_type": "execute_result"
    }
   ],
   "source": [
    "len(x)"
   ]
  },
  {
   "cell_type": "code",
   "execution_count": 175,
   "metadata": {},
   "outputs": [],
   "source": [
    "x_train=[]\n",
    "y_train=[]\n",
    "for i in range(25, 1000):\n",
    "    x_train.append(x[i-25:i,0])\n",
    "    y_train.append(x[i, 0])"
   ]
  },
  {
   "cell_type": "code",
   "execution_count": 176,
   "metadata": {},
   "outputs": [],
   "source": [
    "# x_test=[]\n",
    "# y_test=[]\n",
    "# for i in range(1000, 1259):\n",
    "#     x_test.append(x[i-25:i,0])\n",
    "#     y_test.append(x[i, 0])"
   ]
  },
  {
   "cell_type": "code",
   "execution_count": 177,
   "metadata": {},
   "outputs": [],
   "source": [
    "x_train=np.array(x_train)\n",
    "y_train=np.array(y_train)\n",
    "# x_test=np.array(x_test)\n",
    "# y_test=np.array(y_test)"
   ]
  },
  {
   "cell_type": "code",
   "execution_count": 178,
   "metadata": {},
   "outputs": [],
   "source": [
    "x_train=np.reshape(x_train,(x_train.shape[0],x_train.shape[1],1))\n",
    "# x_test=np.reshape(x_test,(x_test.shape[0],x_test.shape[1],1))"
   ]
  },
  {
   "cell_type": "code",
   "execution_count": 179,
   "metadata": {},
   "outputs": [],
   "source": [
    "model = tf.keras.models.Sequential([\n",
    "    tf.keras.layers.LSTM(50, return_sequences=True, input_shape=(x_train.shape[1], 1)),\n",
    "    tf.keras.layers.Dropout(0.5),\n",
    "    tf.keras.layers.LSTM(50, return_sequences=True),\n",
    "    tf.keras.layers.Dropout(0.4),\n",
    "    tf.keras.layers.LSTM(50, return_sequences=True),\n",
    "    tf.keras.layers.Dropout(0.3),\n",
    "    tf.keras.layers.LSTM(50),\n",
    "    tf.keras.layers.Dropout(0.2),\n",
    "    tf.keras.layers.Dense(1)\n",
    "])"
   ]
  },
  {
   "cell_type": "code",
   "execution_count": 180,
   "metadata": {},
   "outputs": [],
   "source": [
    "model.compile(optimizer = 'adam',\n",
    "              loss= 'mean_squared_error')"
   ]
  },
  {
   "cell_type": "code",
   "execution_count": 181,
   "metadata": {},
   "outputs": [
    {
     "name": "stdout",
     "output_type": "stream",
     "text": [
      "Train on 975 samples\n",
      "Epoch 1/10\n",
      "975/975 [==============================] - 13s 13ms/sample - loss: 0.1045\n",
      "Epoch 2/10\n",
      "975/975 [==============================] - 2s 2ms/sample - loss: 0.0282\n",
      "Epoch 3/10\n",
      "975/975 [==============================] - 2s 2ms/sample - loss: 0.0200\n",
      "Epoch 4/10\n",
      "975/975 [==============================] - 2s 2ms/sample - loss: 0.0159\n",
      "Epoch 5/10\n",
      "975/975 [==============================] - 2s 2ms/sample - loss: 0.0120\n",
      "Epoch 6/10\n",
      "975/975 [==============================] - 2s 2ms/sample - loss: 0.0110\n",
      "Epoch 7/10\n",
      "975/975 [==============================] - 2s 2ms/sample - loss: 0.0098\n",
      "Epoch 8/10\n",
      "975/975 [==============================] - 2s 2ms/sample - loss: 0.0097\n",
      "Epoch 9/10\n",
      "975/975 [==============================] - 2s 2ms/sample - loss: 0.0093\n",
      "Epoch 10/10\n",
      "975/975 [==============================] - 2s 2ms/sample - loss: 0.0087\n"
     ]
    }
   ],
   "source": [
    "history = model.fit(x_train, y_train, epochs=10, batch_size=128)"
   ]
  },
  {
   "cell_type": "code",
   "execution_count": 182,
   "metadata": {},
   "outputs": [],
   "source": [
    "\n",
    "predictions = model.predict(x_train)"
   ]
  },
  {
   "cell_type": "code",
   "execution_count": 183,
   "metadata": {},
   "outputs": [
    {
     "data": {
      "text/plain": [
       "array([[0.19419359],\n",
       "       [0.1946178 ],\n",
       "       [0.1959831 ],\n",
       "       [0.19831954],\n",
       "       [0.20123601]], dtype=float32)"
      ]
     },
     "execution_count": 183,
     "metadata": {},
     "output_type": "execute_result"
    }
   ],
   "source": [
    "predictions[:5]"
   ]
  },
  {
   "cell_type": "code",
   "execution_count": 184,
   "metadata": {},
   "outputs": [
    {
     "data": {
      "text/plain": [
       "array([0.24409643, 0.22458441, 0.23375187, 0.21320541, 0.1716487 ])"
      ]
     },
     "execution_count": 184,
     "metadata": {},
     "output_type": "execute_result"
    }
   ],
   "source": [
    "y_train[:5]"
   ]
  },
  {
   "cell_type": "code",
   "execution_count": 185,
   "metadata": {},
   "outputs": [
    {
     "data": {
      "text/plain": [
       "[<matplotlib.lines.Line2D at 0x1e4f2cc6c88>]"
      ]
     },
     "execution_count": 185,
     "metadata": {},
     "output_type": "execute_result"
    },
    {
     "data": {
      "image/png": "[encoded data removed]",
      "text/plain": [
       "<Figure size 432x288 with 1 Axes>"
      ]
     },
     "metadata": {
      "needs_background": "light"
     },
     "output_type": "display_data"
    }
   ],
   "source": [
    "plt.plot(range(len(x_train)),y_train,c='g')\n",
    "plt.plot(range(len(x_train)),predictions,c='r')"
   ]
  },
  {
   "cell_type": "code",
   "execution_count": null,
   "metadata": {},
   "outputs": [],
   "source": []
  }
 ],
 "metadata": {
  "kernelspec": {
   "display_name": "Python 3",
   "language": "python",
   "name": "python3"
  },
  "language_info": {
   "codemirror_mode": {
    "name": "ipython",
    "version": 3
   },
   "file_extension": ".py",
   "mimetype": "text/x-python",
   "name": "python",
   "nbconvert_exporter": "python",
   "pygments_lexer": "ipython3",
   "version": "3.7.3"
  }
 },
 "nbformat": 4,
 "nbformat_minor": 2
}
